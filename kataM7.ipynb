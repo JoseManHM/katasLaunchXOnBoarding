{
 "cells": [
  {
   "cell_type": "markdown",
   "metadata": {},
   "source": [
    "Ejercicio 1: creación de un bucle \"while\""
   ]
  },
  {
   "cell_type": "code",
   "execution_count": 2,
   "metadata": {},
   "outputs": [],
   "source": [
    "#Declara dos variables\n",
    "new_planet = \"\"\n",
    "planets = []"
   ]
  },
  {
   "cell_type": "code",
   "execution_count": 3,
   "metadata": {},
   "outputs": [],
   "source": [
    "#Escribe el ciclo while solicitado\n",
    "while new_planet.lower() != \"done\":\n",
    "    if(new_planet != \"\"):\n",
    "        planets.append(new_planet)\n",
    "    new_planet = input(\"Ingresa el nombre de un planeta: \")"
   ]
  },
  {
   "cell_type": "markdown",
   "metadata": {},
   "source": [
    "Ejercicio 2: creación de un ciclo \"for\""
   ]
  },
  {
   "cell_type": "code",
   "execution_count": 15,
   "metadata": {},
   "outputs": [
    {
     "name": "stdout",
     "output_type": "stream",
     "text": [
      "El planeta 1 es Mercurio\n",
      "El planeta 1 es Venus\n",
      "El planeta 1 es Tierra\n",
      "El planeta 1 es Marte\n",
      "El planeta 1 es Jupiter\n",
      "El planeta 1 es Urano\n",
      "El planeta 1 es Neptuno\n"
     ]
    }
   ],
   "source": [
    "#Escribe tu ciclo for para iterar en una lista de planetas\n",
    "index = 1\n",
    "for i in planets:\n",
    "    print(\"El planeta \"+str(index)+\" es \"+i)\n",
    "    index+1"
   ]
  }
 ],
 "metadata": {
  "interpreter": {
   "hash": "51b2705d48d3d138c71f7fdb6dbd3d9628a1b94fa2cbb4c05d3cae1fcfd97edf"
  },
  "kernelspec": {
   "display_name": "Python 3.10.2 64-bit",
   "language": "python",
   "name": "python3"
  },
  "language_info": {
   "codemirror_mode": {
    "name": "ipython",
    "version": 3
   },
   "file_extension": ".py",
   "mimetype": "text/x-python",
   "name": "python",
   "nbconvert_exporter": "python",
   "pygments_lexer": "ipython3",
   "version": "3.10.2"
  },
  "orig_nbformat": 4
 },
 "nbformat": 4,
 "nbformat_minor": 2
}
