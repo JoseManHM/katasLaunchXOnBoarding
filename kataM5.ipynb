{
 "cells": [
  {
   "cell_type": "markdown",
   "metadata": {},
   "source": [
    "Ejercicio 1 - Utilizar operadores aritméticos"
   ]
  },
  {
   "cell_type": "code",
   "execution_count": 1,
   "metadata": {},
   "outputs": [],
   "source": [
    "#Crear variables para almacenar las distancias\n",
    "#Quitar las comas\n",
    "tierra = 149597870\n",
    "jupiter = 778547200"
   ]
  },
  {
   "cell_type": "code",
   "execution_count": 6,
   "metadata": {},
   "outputs": [
    {
     "name": "stdout",
     "output_type": "stream",
     "text": [
      "628949330\n",
      "390577534\n"
     ]
    }
   ],
   "source": [
    "#Calcular la distancia entre planetas\n",
    "distanciaMillas = abs(tierra - jupiter)\n",
    "distanciaKM = round(distanciaMillas * 0.621)\n",
    "print(distanciaMillas)\n",
    "print(distanciaKM)"
   ]
  },
  {
   "cell_type": "markdown",
   "metadata": {},
   "source": [
    "Ejercicio 2 - Convierte cadeas en números y usa valores absolutos"
   ]
  },
  {
   "cell_type": "code",
   "execution_count": 14,
   "metadata": {},
   "outputs": [
    {
     "name": "stdout",
     "output_type": "stream",
     "text": [
      "823011300\n"
     ]
    }
   ],
   "source": [
    "#Almacenar las entradas del usuario\n",
    "#Pista: variable = input(\"¿Texto?\")\n",
    "planeta1Str = input(\"Ingresa la distancia del primer planeta en km: \")\n",
    "planeta2Str = input(\"Ingresa la distancia del segundo planeta en km: \")\n",
    "#Convierte las cadenas de ambos planetas a números enteros\n",
    "planeta1Int = int(planeta1Str)\n",
    "planeta2Int = int(planeta2Str)\n",
    "#Realizar el calculo y determinar el valor absoluto\n",
    "#Convertir de km a millas\n",
    "distanciakm = abs(planeta1Int - planeta2Int)\n",
    "distanciami = round(distanciakm * 0.621)\n",
    "print(distanciami)"
   ]
  }
 ],
 "metadata": {
  "interpreter": {
   "hash": "51b2705d48d3d138c71f7fdb6dbd3d9628a1b94fa2cbb4c05d3cae1fcfd97edf"
  },
  "kernelspec": {
   "display_name": "Python 3.10.2 64-bit",
   "language": "python",
   "name": "python3"
  },
  "language_info": {
   "codemirror_mode": {
    "name": "ipython",
    "version": 3
   },
   "file_extension": ".py",
   "mimetype": "text/x-python",
   "name": "python",
   "nbconvert_exporter": "python",
   "pygments_lexer": "ipython3",
   "version": "3.10.2"
  },
  "orig_nbformat": 4
 },
 "nbformat": 4,
 "nbformat_minor": 2
}
