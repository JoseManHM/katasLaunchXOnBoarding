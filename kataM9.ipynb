{
 "cells": [
  {
   "cell_type": "markdown",
   "metadata": {},
   "source": [
    "Ejercicio 1: trabajar con argumentos en funciones"
   ]
  },
  {
   "cell_type": "code",
   "execution_count": 10,
   "metadata": {},
   "outputs": [
    {
     "data": {
      "text/plain": [
       "'Reporte combustible\\n    Promedio: 26.666666666666668%\\n    Tanque principal: 40%\\n    Tanque secundario1: 35%\\n    Tanque secundario2: 5%\\n    '"
      ]
     },
     "execution_count": 10,
     "metadata": {},
     "output_type": "execute_result"
    }
   ],
   "source": [
    "#Función para leer 3 tanques de combustible y muestre el promedio\n",
    "def fuel(tanque1,tanque2,tanque3):\n",
    "    promedio = (tanque1 + tanque2 + tanque3) / 3\n",
    "    return f\"\"\"Reporte combustible\n",
    "    Promedio: {promedio}%\n",
    "    Tanque principal: {tanque1}%\n",
    "    Tanque secundario1: {tanque2}%\n",
    "    Tanque secundario2: {tanque3}%\n",
    "    \"\"\"\n",
    "fuel(40,35,5)"
   ]
  },
  {
   "cell_type": "code",
   "execution_count": 11,
   "metadata": {},
   "outputs": [
    {
     "name": "stdout",
     "output_type": "stream",
     "text": [
      "Reporte combustible\n",
      "    Promedio: 75.0%\n",
      "    Tanque principal: 100%\n",
      "    Tanque secundario1: 75%\n",
      "    Tanque secundario2: 50%\n",
      "    \n"
     ]
    }
   ],
   "source": [
    "#Llamamos a la función que genera el reporte print\n",
    "print(fuel(100,75,50))"
   ]
  },
  {
   "cell_type": "code",
   "execution_count": 12,
   "metadata": {},
   "outputs": [
    {
     "data": {
      "text/plain": [
       "51.666666666666664"
      ]
     },
     "execution_count": 12,
     "metadata": {},
     "output_type": "execute_result"
    }
   ],
   "source": [
    "#Funcion promedio\n",
    "def fuelProm(valores):\n",
    "    suma = sum(valores)\n",
    "    tamano = len(valores)\n",
    "    prom = suma / tamano\n",
    "    return prom\n",
    "\n",
    "fuelProm([100,50,5])"
   ]
  },
  {
   "cell_type": "code",
   "execution_count": 13,
   "metadata": {},
   "outputs": [
    {
     "data": {
      "text/plain": [
       "'Reporte combustible:\\nPromedio: 51.666666666666664%\\nTanque principal: 100%\\nTanque secundario1: 50%\\nTanque secundario2: 5%'"
      ]
     },
     "execution_count": 13,
     "metadata": {},
     "output_type": "execute_result"
    }
   ],
   "source": [
    "#Actualiza la funcion\n",
    "def fuelReport(t1,t2,t3):\n",
    "    return f\"Reporte combustible:\\nPromedio: {fuelProm([t1,t2,t3])}%\\nTanque principal: {t1}%\\nTanque secundario1: {t2}%\\nTanque secundario2: {t3}%\"\n",
    "fuelReport(100,50,5)"
   ]
  },
  {
   "cell_type": "markdown",
   "metadata": {},
   "source": [
    "Ejercicio 2: trabajo cin argumentos de palabra clave"
   ]
  },
  {
   "cell_type": "code",
   "execution_count": 16,
   "metadata": {},
   "outputs": [
    {
     "data": {
      "text/plain": [
       "'Reporte viaje:\\n    Hora de prelanzamiento: 15 hrs\\n    Tiempo de vuelo: 7 hrs\\n    Destino: Luna\\n    Tanque externo: 650lts\\n    Tanque interno: 250lts\\n    Combustible total: 900 lts\\n    Tiempo total de viaje: 22 hrs'"
      ]
     },
     "execution_count": 16,
     "metadata": {},
     "output_type": "execute_result"
    }
   ],
   "source": [
    "# Función con un informe preciso de la misión. Considera hora de prelanzamiento, tiempo de vuelo, destino, tanque externo y tanque interno\n",
    "def reporte(horaPre,timeFly,destination,extern,intern):\n",
    "    return f\"\"\"Reporte viaje:\n",
    "    Hora de prelanzamiento: {horaPre} hrs\n",
    "    Tiempo de vuelo: {timeFly} hrs\n",
    "    Destino: {destination}\n",
    "    Tanque externo: {extern}lts\n",
    "    Tanque interno: {intern}lts\n",
    "    Combustible total: {extern + intern} lts\n",
    "    Tiempo total de viaje: {horaPre + timeFly} hrs\"\"\"\n",
    "\n",
    "reporte(15, 7, \"Luna\", 650, 250)"
   ]
  },
  {
   "cell_type": "code",
   "execution_count": 17,
   "metadata": {},
   "outputs": [
    {
     "data": {
      "text/plain": [
       "'\\n    Mision a Marte\\n    Tiempo total de viaje: 147 horas\\n    Combustible total: 296666 lts'"
      ]
     },
     "execution_count": 17,
     "metadata": {},
     "output_type": "execute_result"
    }
   ],
   "source": [
    "#Escribe tu nueva funcion de reporte considerando lo anterior\n",
    "def misionReporte(destino, *horas, **combustible):\n",
    "    return f\"\"\"\n",
    "    Mision a {destino}\n",
    "    Tiempo total de viaje: {sum(horas)} horas\n",
    "    Combustible total: {sum(combustible.values())} lts\"\"\"\n",
    "\n",
    "misionReporte(\"Marte\",1,3,5,25,48,65, interno=98105, externo=198561)"
   ]
  },
  {
   "cell_type": "code",
   "execution_count": 18,
   "metadata": {},
   "outputs": [
    {
     "data": {
      "text/plain": [
       "'\\n    Mision a Jupiter\\n    Tiempo total de viaje: 638 hrs\\n    Combustible total: 309715externo tanque --> 255168 litros\\n'"
      ]
     },
     "execution_count": 18,
     "metadata": {},
     "output_type": "execute_result"
    }
   ],
   "source": [
    "#Escribe tu nueva funcion\n",
    "def misionReporte2(destino, *horas, **combustible):\n",
    "    reporteMain = f\"\"\"\n",
    "    Mision a {destino}\n",
    "    Tiempo total de viaje: {sum(horas)} hrs\n",
    "    Combustible total: {sum(combustible.values())}\"\"\"\n",
    "    for nombreT, litros in combustible.items():\n",
    "        reporteMain += f\"\"\"{nombreT} tanque --> {litros} litros\\n\"\"\"\n",
    "        return reporteMain\n",
    "\n",
    "misionReporte2(\"Jupiter\",10,54,35,84,105,350,externo=255168,interno1=19845,interno2=18186,reserva=16516)"
   ]
  }
 ],
 "metadata": {
  "interpreter": {
   "hash": "51b2705d48d3d138c71f7fdb6dbd3d9628a1b94fa2cbb4c05d3cae1fcfd97edf"
  },
  "kernelspec": {
   "display_name": "Python 3.10.2 64-bit",
   "language": "python",
   "name": "python3"
  },
  "language_info": {
   "codemirror_mode": {
    "name": "ipython",
    "version": 3
   },
   "file_extension": ".py",
   "mimetype": "text/x-python",
   "name": "python",
   "nbconvert_exporter": "python",
   "pygments_lexer": "ipython3",
   "version": "3.10.2"
  },
  "orig_nbformat": 4
 },
 "nbformat": 4,
 "nbformat_minor": 2
}
