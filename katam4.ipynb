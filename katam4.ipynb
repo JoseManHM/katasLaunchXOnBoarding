{
 "cells": [
  {
   "cell_type": "markdown",
   "metadata": {},
   "source": [
    "#Ejercicio 1, transformar cadenas"
   ]
  },
  {
   "cell_type": "code",
   "execution_count": 3,
   "metadata": {},
   "outputs": [],
   "source": [
    "text = \"\"\"Interesting facts about the Moon. The Moon is Earth's only satellite. There are several interesting facts about the Moon and how it affects life here on Earth. \n",
    "On average, the Moon moves 4cm away from the Earth every year. This yearly drift is not significant enough to cause immediate effects on Earth. The highest daylight temperature of the Moon is 127 C.\"\"\""
   ]
  },
  {
   "cell_type": "code",
   "execution_count": 4,
   "metadata": {},
   "outputs": [],
   "source": [
    "#Dividir texto en oraciones\n",
    "text_divided = text.split('. ')"
   ]
  },
  {
   "cell_type": "code",
   "execution_count": 5,
   "metadata": {},
   "outputs": [],
   "source": [
    "#Definimos palabras clave\n",
    "keywords = ['average','temperature','distance']"
   ]
  },
  {
   "cell_type": "code",
   "execution_count": 6,
   "metadata": {},
   "outputs": [
    {
     "name": "stdout",
     "output_type": "stream",
     "text": [
      "\n",
      "On average, the Moon moves 4cm away from the Earth every year\n",
      "The highest daylight temperature of the Moon is 127 C.\n"
     ]
    }
   ],
   "source": [
    "#Ciclo for para recorrer la cadena\n",
    "for oraciones in text_divided:\n",
    "    for palabraC in keywords:\n",
    "        if palabraC in oraciones:\n",
    "            print(oraciones)\n",
    "            break"
   ]
  },
  {
   "cell_type": "code",
   "execution_count": 7,
   "metadata": {},
   "outputs": [
    {
     "name": "stdout",
     "output_type": "stream",
     "text": [
      "\n",
      "On average, the Moon moves 4cm away from the Earth every year\n",
      "The highest daylight temperature of the Moon is 127 Celsius.\n"
     ]
    }
   ],
   "source": [
    "#Ciclo para cambiar C a Celsius\n",
    "for oraciones in text_divided:\n",
    "    for palabrasC in keywords:\n",
    "        if palabrasC in oraciones:\n",
    "            print(oraciones.replace('C','Celsius'))\n",
    "            break"
   ]
  },
  {
   "cell_type": "markdown",
   "metadata": {},
   "source": [
    "#Ejercicio 2: formateando cadenas"
   ]
  },
  {
   "cell_type": "code",
   "execution_count": 2,
   "metadata": {},
   "outputs": [],
   "source": [
    "#Datos con los que se va a trabajar\n",
    "name = \"Moon\"\n",
    "gravity = 0.00162\n",
    "planet = \"Earth\""
   ]
  },
  {
   "cell_type": "code",
   "execution_count": 4,
   "metadata": {},
   "outputs": [],
   "source": [
    "#Creacion del titulo\n",
    "titulo = f'datos de gravedad sobre {name}'"
   ]
  },
  {
   "cell_type": "code",
   "execution_count": 5,
   "metadata": {},
   "outputs": [],
   "source": [
    "#Creacion de la plantilla\n",
    "facts = f\"\"\"{'-'*50}\n",
    "Nombre del planeta: {planet}\n",
    "Gravedad en {name}: {gravity * 1000} m/s2\"\"\""
   ]
  },
  {
   "cell_type": "code",
   "execution_count": 6,
   "metadata": {},
   "outputs": [
    {
     "name": "stdout",
     "output_type": "stream",
     "text": [
      "--------------------------------------------------\n",
      "Nombre del planeta: Earth\n",
      "Gravedad en Moon: 1.6199999999999999 m/s2\n"
     ]
    }
   ],
   "source": [
    "#Unión de ambas cadenas\n",
    "plantilla = f\"\"\"{titulo.title()}\n",
    "{facts}\"\"\"\n",
    "print(facts)"
   ]
  },
  {
   "cell_type": "code",
   "execution_count": 7,
   "metadata": {},
   "outputs": [],
   "source": [
    "#Nuevos datos de muestra\n",
    "planet = \"Marte\"\n",
    "gravity = 0.00143\n",
    "name = \"Ganímedes\""
   ]
  },
  {
   "cell_type": "code",
   "execution_count": 8,
   "metadata": {},
   "outputs": [
    {
     "name": "stdout",
     "output_type": "stream",
     "text": [
      "Datos De Gravedad Sobre Moon\n",
      "--------------------------------------------------\n",
      "Nombre del planeta: Earth\n",
      "Gravedad en Moon: 1.6199999999999999 m/s2\n"
     ]
    }
   ],
   "source": [
    "#Comprobacion de la plantilla\n",
    "print(plantilla)"
   ]
  },
  {
   "cell_type": "code",
   "execution_count": 9,
   "metadata": {},
   "outputs": [
    {
     "name": "stdout",
     "output_type": "stream",
     "text": [
      "Datos de la gravedad sobre Ganímedes\n",
      "--------------------------------------------------\n",
      "Nombre del planeta Marte\n",
      "La gravedad en Ganímedes es de 0.00143 m/s2\n",
      "\n"
     ]
    }
   ],
   "source": [
    "#Nueva plantilla\n",
    "nuevaPlantilla = f\"\"\"Datos de la gravedad sobre {name}\n",
    "{'-'*50}\n",
    "Nombre del planeta {planet}\n",
    "La gravedad en {name} es de {gravity} m/s2\n",
    "\"\"\"\n",
    "print(nuevaPlantilla.format(name=name, planet=planet, gravity=gravity))"
   ]
  },
  {
   "cell_type": "code",
   "execution_count": 11,
   "metadata": {},
   "outputs": [
    {
     "name": "stdout",
     "output_type": "stream",
     "text": [
      "Datos de la gravedad sobre Ganímedes\n",
      "--------------------------------------------------\n",
      "Nombre del planeta Marte\n",
      "La gravedad en Ganímedes es de 0.00143 m/s2\n",
      "\n"
     ]
    }
   ],
   "source": [
    "#Pista: print(nueva_plantilla.format(variables))\n",
    "print(nuevaPlantilla.format(name=name, planet=planet, gravity=gravity*1000))"
   ]
  }
 ],
 "metadata": {
  "interpreter": {
   "hash": "51b2705d48d3d138c71f7fdb6dbd3d9628a1b94fa2cbb4c05d3cae1fcfd97edf"
  },
  "kernelspec": {
   "display_name": "Python 3.10.2 64-bit",
   "language": "python",
   "name": "python3"
  },
  "language_info": {
   "codemirror_mode": {
    "name": "ipython",
    "version": 3
   },
   "file_extension": ".py",
   "mimetype": "text/x-python",
   "name": "python",
   "nbconvert_exporter": "python",
   "pygments_lexer": "ipython3",
   "version": "3.10.2"
  },
  "orig_nbformat": 4
 },
 "nbformat": 4,
 "nbformat_minor": 2
}
